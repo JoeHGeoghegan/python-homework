{
 "cells": [
  {
   "cell_type": "code",
   "execution_count": 1,
   "id": "88beaadc-53c7-4e14-b0b8-8cb884a9f6e2",
   "metadata": {},
   "outputs": [
    {
     "name": "stdout",
     "output_type": "stream",
     "text": [
      "----------REPORT----------\n",
      "Number of unique records captured: 11\n",
      "Number of sales analyized: 74124\n",
      "spicy miso ramen: {'01-count': 9238, '02-revenue': 81624.0, '03-cogs': 34010.0, '04-profit': 47614.0}\n",
      "tori paitan ramen: {'01-count': 9156, '02-revenue': 88634.0, '03-cogs': 40908.0, '04-profit': 47726.0}\n",
      "truffle butter ramen: {'01-count': 8982, '02-revenue': 94164.0, '03-cogs': 47082.0, '04-profit': 47082.0}\n",
      "tonkotsu ramen: {'01-count': 9288, '02-revenue': 88400.0, '03-cogs': 40800.0, '04-profit': 47600.0}\n",
      "vegetarian spicy miso: {'01-count': 9216, '02-revenue': 81864.0, '03-cogs': 34110.0, '04-profit': 47754.0}\n",
      "shio ramen: {'01-count': 9180, '02-revenue': 74184.0, '03-cogs': 33720.0, '04-profit': 40464.0}\n",
      "miso crab ramen: {'01-count': 8890, '02-revenue': 78648.0, '03-cogs': 39324.0, '04-profit': 39324.0}\n",
      "nagomi shoyu: {'01-count': 9132, '02-revenue': 73260.0, '03-cogs': 33300.0, '04-profit': 39960.0}\n",
      "soft-shell miso crab ramen: {'01-count': 9130, '02-revenue': 94388.0, '03-cogs': 47194.0, '04-profit': 47194.0}\n",
      "burnt garlic tonkotsu ramen: {'01-count': 9070, '02-revenue': 94780.0, '03-cogs': 40620.0, '04-profit': 54160.0}\n",
      "vegetarian curry + king trumpet mushroom ramen: {'01-count': 8824, '02-revenue': 86918.0, '03-cogs': 46802.0, '04-profit': 40116.0}\n"
     ]
    }
   ],
   "source": [
    "import PyRamen"
   ]
  },
  {
   "cell_type": "code",
   "execution_count": null,
   "id": "c42c793c-8624-44d8-8d72-d6632e26b837",
   "metadata": {},
   "outputs": [],
   "source": []
  }
 ],
 "metadata": {
  "kernelspec": {
   "display_name": "Python 3 (ipykernel)",
   "language": "python",
   "name": "python3"
  },
  "language_info": {
   "codemirror_mode": {
    "name": "ipython",
    "version": 3
   },
   "file_extension": ".py",
   "mimetype": "text/x-python",
   "name": "python",
   "nbconvert_exporter": "python",
   "pygments_lexer": "ipython3",
   "version": "3.7.11"
  }
 },
 "nbformat": 4,
 "nbformat_minor": 5
}
