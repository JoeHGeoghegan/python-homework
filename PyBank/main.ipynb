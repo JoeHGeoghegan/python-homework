{
 "cells": [
  {
   "cell_type": "code",
   "execution_count": 1,
   "id": "a505cf25-f279-4a22-9be0-1760744a1bf6",
   "metadata": {},
   "outputs": [
    {
     "name": "stdout",
     "output_type": "stream",
     "text": [
      "Financial Analysis\n",
      "----------------------------\n",
      "Total Months: 86\n",
      "Total: $38382578.00\n",
      "Average  Change: $446309.05\n",
      "Greatest Increase in Profits: Feb-2012 (1170593.00)\n",
      "Greatest Decrease in Profits: Sep-2013 ($-1196225.00)\n"
     ]
    }
   ],
   "source": [
    "import bankProfitsScript"
   ]
  },
  {
   "cell_type": "code",
   "execution_count": null,
   "id": "225324bd-2b81-457f-ae25-4eb2847c4461",
   "metadata": {},
   "outputs": [],
   "source": []
  }
 ],
 "metadata": {
  "kernelspec": {
   "display_name": "Python 3 (ipykernel)",
   "language": "python",
   "name": "python3"
  },
  "language_info": {
   "codemirror_mode": {
    "name": "ipython",
    "version": 3
   },
   "file_extension": ".py",
   "mimetype": "text/x-python",
   "name": "python",
   "nbconvert_exporter": "python",
   "pygments_lexer": "ipython3",
   "version": "3.7.11"
  }
 },
 "nbformat": 4,
 "nbformat_minor": 5
}
